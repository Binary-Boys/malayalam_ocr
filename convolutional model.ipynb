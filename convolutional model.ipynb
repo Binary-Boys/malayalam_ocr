{
 "cells": [
  {
   "cell_type": "code",
   "execution_count": 1,
   "metadata": {},
   "outputs": [],
   "source": [
    "import os\n",
    "import numpy as np\n",
    "import pandas as pd\n",
    "import matplotlib.pyplot as plt\n",
    "import cv2"
   ]
  },
  {
   "cell_type": "code",
   "execution_count": 2,
   "metadata": {},
   "outputs": [],
   "source": [
    "path=\"C:/Users/joseph/Documents/malayalam OCR/data as numpy files\"\n",
    "files=os.listdir(path)"
   ]
  },
  {
   "cell_type": "code",
   "execution_count": 31,
   "metadata": {},
   "outputs": [],
   "source": [
    "newx=[]\n",
    "newy=[]"
   ]
  },
  {
   "cell_type": "code",
   "execution_count": 4,
   "metadata": {},
   "outputs": [],
   "source": [
    "def dataset(n,m):\n",
    "    for i in range(n):\n",
    "        x=np.load(path+'/'+files[i])\n",
    "        if i+51>=len(files):\n",
    "            break\n",
    "        y=np.load(path+'/'+files[i+51])\n",
    "        for j in range(m):\n",
    "            newx.append(x[j])\n",
    "            newy.append(y[j])\n",
    "    return(print(\"your sub array has been created\"))        \n",
    "    \n",
    "    "
   ]
  },
  {
   "cell_type": "code",
   "execution_count": 32,
   "metadata": {},
   "outputs": [
    {
     "name": "stdout",
     "output_type": "stream",
     "text": [
      "your sub array has been created\n"
     ]
    }
   ],
   "source": [
    "dataset(51,80)"
   ]
  },
  {
   "cell_type": "code",
   "execution_count": 6,
   "metadata": {},
   "outputs": [],
   "source": [
    "def reshape(arr):\n",
    "    imar=[]\n",
    "    for i in arr:\n",
    "        img=i.reshape(300,300)\n",
    "        img=cv2.resize(img,(50,50))\n",
    "        imar.append(img)\n",
    "    return(imar)\n",
    "    "
   ]
  },
  {
   "cell_type": "code",
   "execution_count": 33,
   "metadata": {},
   "outputs": [],
   "source": [
    "newx=reshape(newx)"
   ]
  },
  {
   "cell_type": "code",
   "execution_count": 34,
   "metadata": {},
   "outputs": [],
   "source": [
    "newx=np.array(newx)\n",
    "newx=newx/255"
   ]
  },
  {
   "cell_type": "code",
   "execution_count": 25,
   "metadata": {},
   "outputs": [
    {
     "data": {
      "text/plain": [
       "(50, 50)"
      ]
     },
     "execution_count": 25,
     "metadata": {},
     "output_type": "execute_result"
    },
    {
     "data": {
      "image/png": "[encoded data removed]",
      "text/plain": [
       "<Figure size 432x288 with 1 Axes>"
      ]
     },
     "metadata": {
      "needs_background": "light"
     },
     "output_type": "display_data"
    }
   ],
   "source": [
    "plt.imshow(newx[0])\n",
    "newx[0].shape"
   ]
  },
  {
   "cell_type": "code",
   "execution_count": 35,
   "metadata": {},
   "outputs": [],
   "source": [
    "arr=[]\n",
    "for i in newy:\n",
    "    i=i-1\n",
    "    arr.append(i)\n",
    "newy=arr    "
   ]
  },
  {
   "cell_type": "code",
   "execution_count": 11,
   "metadata": {},
   "outputs": [],
   "source": [
    "from sklearn.model_selection import train_test_split\n",
    "import tensorflow as tf\n",
    "from tensorflow.keras.utils import to_categorical\n",
    "from tensorflow.keras.models import Sequential\n",
    "from tensorflow.keras.layers import Dense, Dropout, Flatten, Conv2D, MaxPool2D\n",
    "from tensorflow.keras.optimizers import RMSprop\n",
    "from tensorflow.keras.preprocessing.image import ImageDataGenerator\n",
    "from tensorflow.keras.callbacks import ReduceLROnPlateau"
   ]
  },
  {
   "cell_type": "code",
   "execution_count": 36,
   "metadata": {},
   "outputs": [],
   "source": [
    "newY = to_categorical(newy)"
   ]
  },
  {
   "cell_type": "code",
   "execution_count": 37,
   "metadata": {},
   "outputs": [],
   "source": [
    "x_train, x_val, y_train, y_val = train_test_split(newx, newY, test_size = 0.2, random_state=20)"
   ]
  },
  {
   "cell_type": "code",
   "execution_count": 38,
   "metadata": {},
   "outputs": [],
   "source": [
    "x_train = x_train.reshape(-1,50,50,1)\n",
    "x_val = x_val.reshape(-1,50,50,1)"
   ]
  },
  {
   "cell_type": "code",
   "execution_count": 89,
   "metadata": {},
   "outputs": [],
   "source": [
    "#CNN"
   ]
  },
  {
   "cell_type": "code",
   "execution_count": 15,
   "metadata": {},
   "outputs": [
    {
     "name": "stderr",
     "output_type": "stream",
     "text": [
      "WARNING: Logging before flag parsing goes to stderr.\n",
      "W0902 22:46:50.168524  2012 deprecation.py:506] From C:\\ProgramData\\Anaconda3\\lib\\site-packages\\tensorflow\\python\\ops\\init_ops.py:1251: calling VarianceScaling.__init__ (from tensorflow.python.ops.init_ops) with dtype is deprecated and will be removed in a future version.\n",
      "Instructions for updating:\n",
      "Call initializer instance with the dtype argument instead of passing it to the constructor\n"
     ]
    }
   ],
   "source": [
    "model = Sequential()\n",
    "\n",
    "model.add(Conv2D(filters = 32, kernel_size = (5,5),padding = 'Same', \n",
    "                 activation ='relu', input_shape = (50,50,1)))\n",
    "model.add(Conv2D(filters = 32, kernel_size = (5,5),padding = 'Same', \n",
    "                 activation ='relu'))\n",
    "model.add(MaxPool2D(pool_size=(2,2)))\n",
    "model.add(Dropout(0.25))\n",
    "\n",
    "\n",
    "model.add(Conv2D(filters = 64, kernel_size = (3,3),padding = 'Same', \n",
    "                 activation ='relu'))\n",
    "model.add(Conv2D(filters = 64, kernel_size = (3,3),padding = 'Same', \n",
    "                 activation ='relu'))\n",
    "model.add(MaxPool2D(pool_size=(2,2), strides=(2,2)))\n",
    "model.add(Dropout(0.25))\n",
    "\n",
    "\n",
    "model.add(Flatten())\n",
    "model.add(Dense(256, activation = \"relu\"))\n",
    "model.add(Dropout(0.5))\n",
    "model.add(Dense(51, activation = \"softmax\"))"
   ]
  },
  {
   "cell_type": "code",
   "execution_count": 16,
   "metadata": {},
   "outputs": [],
   "source": [
    "model.compile(optimizer = 'adam' , loss = \"categorical_crossentropy\", metrics=[\"accuracy\"])"
   ]
  },
  {
   "cell_type": "code",
   "execution_count": 39,
   "metadata": {},
   "outputs": [
    {
     "name": "stdout",
     "output_type": "stream",
     "text": [
      "Train on 3264 samples, validate on 816 samples\n",
      "Epoch 1/20\n",
      "3264/3264 [==============================] - 4s 1ms/sample - loss: 0.4277 - acc: 0.8897 - val_loss: 0.1567 - val_acc: 0.9534\n",
      "Epoch 2/20\n",
      "3264/3264 [==============================] - 4s 1ms/sample - loss: 0.2476 - acc: 0.9292 - val_loss: 0.1564 - val_acc: 0.9608\n",
      "Epoch 3/20\n",
      "3264/3264 [==============================] - 4s 1ms/sample - loss: 0.1992 - acc: 0.9424 - val_loss: 0.1390 - val_acc: 0.9632\n",
      "Epoch 4/20\n",
      "3264/3264 [==============================] - 4s 1ms/sample - loss: 0.1440 - acc: 0.9571 - val_loss: 0.1601 - val_acc: 0.9596\n",
      "Epoch 5/20\n",
      "3264/3264 [==============================] - 4s 1ms/sample - loss: 0.1355 - acc: 0.9565 - val_loss: 0.1664 - val_acc: 0.9596\n",
      "Epoch 6/20\n",
      "3264/3264 [==============================] - 4s 1ms/sample - loss: 0.1090 - acc: 0.9635 - val_loss: 0.1616 - val_acc: 0.9559\n",
      "Epoch 7/20\n",
      "3264/3264 [==============================] - 4s 1ms/sample - loss: 0.1161 - acc: 0.9626 - val_loss: 0.1825 - val_acc: 0.9559\n",
      "Epoch 8/20\n",
      "3264/3264 [==============================] - 4s 1ms/sample - loss: 0.1062 - acc: 0.9642 - val_loss: 0.2058 - val_acc: 0.9510\n",
      "Epoch 9/20\n",
      "3264/3264 [==============================] - 4s 1ms/sample - loss: 0.0928 - acc: 0.9688 - val_loss: 0.1894 - val_acc: 0.9608\n",
      "Epoch 10/20\n",
      "3264/3264 [==============================] - 4s 1ms/sample - loss: 0.1170 - acc: 0.9623 - val_loss: 0.1828 - val_acc: 0.9583\n",
      "Epoch 11/20\n",
      "3264/3264 [==============================] - 4s 1ms/sample - loss: 0.0944 - acc: 0.9703 - val_loss: 0.1984 - val_acc: 0.9583\n",
      "Epoch 12/20\n",
      "3264/3264 [==============================] - 4s 1ms/sample - loss: 0.1060 - acc: 0.9709 - val_loss: 0.2130 - val_acc: 0.9510\n",
      "Epoch 13/20\n",
      "3264/3264 [==============================] - 4s 1ms/sample - loss: 0.0970 - acc: 0.9669 - val_loss: 0.2317 - val_acc: 0.9522\n",
      "Epoch 14/20\n",
      "3264/3264 [==============================] - 4s 1ms/sample - loss: 0.0784 - acc: 0.9737 - val_loss: 0.2255 - val_acc: 0.9583\n",
      "Epoch 15/20\n",
      "3264/3264 [==============================] - 4s 1ms/sample - loss: 0.0695 - acc: 0.9779 - val_loss: 0.2105 - val_acc: 0.9534\n",
      "Epoch 16/20\n",
      "3264/3264 [==============================] - 4s 1ms/sample - loss: 0.1021 - acc: 0.9678 - val_loss: 0.1996 - val_acc: 0.9510\n",
      "Epoch 17/20\n",
      "3264/3264 [==============================] - 4s 1ms/sample - loss: 0.0870 - acc: 0.9746 - val_loss: 0.1953 - val_acc: 0.9583\n",
      "Epoch 18/20\n",
      "3264/3264 [==============================] - 4s 1ms/sample - loss: 0.0930 - acc: 0.9684 - val_loss: 0.2310 - val_acc: 0.9510\n",
      "Epoch 19/20\n",
      "3264/3264 [==============================] - 4s 1ms/sample - loss: 0.1022 - acc: 0.9688 - val_loss: 0.2028 - val_acc: 0.9522\n",
      "Epoch 20/20\n",
      "3264/3264 [==============================] - 4s 1ms/sample - loss: 0.0794 - acc: 0.9737 - val_loss: 0.2000 - val_acc: 0.9547\n"
     ]
    },
    {
     "data": {
      "text/plain": [
       "<tensorflow.python.keras.callbacks.History at 0x257e238c080>"
      ]
     },
     "execution_count": 39,
     "metadata": {},
     "output_type": "execute_result"
    }
   ],
   "source": [
    "model.fit(x_train, y_train,batch_size=10,epochs=20,validation_data=(x_val, y_val))\n"
   ]
  },
  {
   "cell_type": "code",
   "execution_count": 15,
   "metadata": {},
   "outputs": [],
   "source": [
    "from tensorflow.keras.models import load_model"
   ]
  },
  {
   "cell_type": "code",
   "execution_count": 40,
   "metadata": {},
   "outputs": [],
   "source": [
    "model.save('model80.h5')\n"
   ]
  },
  {
   "cell_type": "code",
   "execution_count": 19,
   "metadata": {},
   "outputs": [],
   "source": [
    "model = load_model('model70.h5')"
   ]
  },
  {
   "cell_type": "code",
   "execution_count": 55,
   "metadata": {},
   "outputs": [],
   "source": [
    "img=cv2.imread(\"1,0.JPG\",0)\n"
   ]
  },
  {
   "cell_type": "code",
   "execution_count": 56,
   "metadata": {},
   "outputs": [
    {
     "data": {
      "text/plain": [
       "<matplotlib.image.AxesImage at 0x16798fac400>"
      ]
     },
     "execution_count": 56,
     "metadata": {},
     "output_type": "execute_result"
    },
    {
     "data": {
      "image/png": "[encoded data removed]",
      "text/plain": [
       "<Figure size 432x288 with 1 Axes>"
      ]
     },
     "metadata": {
      "needs_background": "light"
     },
     "output_type": "display_data"
    }
   ],
   "source": [
    "plt.imshow(img)"
   ]
  },
  {
   "cell_type": "code",
   "execution_count": 57,
   "metadata": {},
   "outputs": [],
   "source": [
    "img=cv2.resize(img,(50,50))\n",
    "img=img/255"
   ]
  },
  {
   "cell_type": "code",
   "execution_count": 58,
   "metadata": {},
   "outputs": [],
   "source": [
    "img=img.reshape(-1,50,50,1)"
   ]
  },
  {
   "cell_type": "code",
   "execution_count": 60,
   "metadata": {},
   "outputs": [
    {
     "data": {
      "text/plain": [
       "array([0], dtype=int64)"
      ]
     },
     "execution_count": 60,
     "metadata": {},
     "output_type": "execute_result"
    }
   ],
   "source": [
    "model.predict_classes(img)"
   ]
  },
  {
   "cell_type": "code",
   "execution_count": null,
   "metadata": {},
   "outputs": [],
   "source": []
  }
 ],
 "metadata": {
  "kernelspec": {
   "display_name": "Python 3",
   "language": "python",
   "name": "python3"
  },
  "language_info": {
   "codemirror_mode": {
    "name": "ipython",
    "version": 3
   },
   "file_extension": ".py",
   "mimetype": "text/x-python",
   "name": "python",
   "nbconvert_exporter": "python",
   "pygments_lexer": "ipython3",
   "version": "3.7.3"
  }
 },
 "nbformat": 4,
 "nbformat_minor": 2
}
